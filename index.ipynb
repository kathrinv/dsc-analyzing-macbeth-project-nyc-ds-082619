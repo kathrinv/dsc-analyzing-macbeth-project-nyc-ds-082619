{
 "cells": [
  {
   "cell_type": "markdown",
   "metadata": {},
   "source": [
    "# Project: Analyzing Macbeth\n",
    "\n",
    "## Introduction\n",
    "Now we're going to do some rudimentry analysis of Shakespeare's classic play: Macbeth! You will get practice working with lists, condtionals and dictionaries, visualizing data, and thinking analytically about data.\n",
    "\n",
    "## Objectives\n",
    "You will be able to:\n",
    "* Show mastery of the content covered in this section\n",
    "\n",
    "## Getting the Data\n",
    "Here we start by importing a python package and using it to pull the transcript of Macbeth from the project Gutenberg website. We also preview a few details about what is now stored in the variable macbeth; it's a string with 119,846 characters, the first 500 of which are printed below. "
   ]
  },
  {
   "cell_type": "code",
   "execution_count": 88,
   "metadata": {},
   "outputs": [
    {
     "name": "stdout",
     "output_type": "stream",
     "text": [
      "<class 'str'>\n",
      "120253\n",
      "103547\n"
     ]
    }
   ],
   "source": [
    "import requests\n",
    "macbeth = requests.get('http://www.gutenberg.org/cache/epub/2264/pg2264.txt').text\n",
    "\n",
    "print(type(macbeth))\n",
    "print(len(macbeth))\n",
    "\n",
    "# I found the end of the introduction via trial-and-error, as per the print statement below\n",
    "# print(macbeth[:16706]) \n",
    "\n",
    "# The introduction by the Project Gutenberg contrinutes continues until char #16706\n",
    "# So I remove this \"non-Shakespeare\" text prior to working with the text\n",
    "macbeth = macbeth[16706:]\n",
    "print(len(macbeth))"
   ]
  },
  {
   "cell_type": "code",
   "execution_count": null,
   "metadata": {},
   "outputs": [],
   "source": []
  },
  {
   "cell_type": "markdown",
   "metadata": {},
   "source": [
    "## Your Task\n",
    "\n",
    "Your task is to create a bar graph of the 25 most common words in Shakespeare's Macbeth.  \n",
    "\n",
    "\n",
    "A common python programming pattern to counting objects, produce histograms, or update statistics is to make calls to a dictionary as you iterate through a list. For example, given a list of words, you can create a dictionary to store counts and then iterate through the list of words, checking how many times each word has appeared using your dictionary, and updating the dictionary count now that you've seen that word again. The `dictionary.get()` method is very useful in doing this. Read the docstring for the dictionary.get() method and use it along with the pseudocode above to create a bar graph of the 25 most common words from the transcript of Macbeth which has been loaded into a variable 'Macbeth'. Be sure to include a title and appropriate labels for your graph."
   ]
  },
  {
   "cell_type": "code",
   "execution_count": 67,
   "metadata": {},
   "outputs": [],
   "source": [
    "# Format the entire text to lowercase to avoid duplicates such as \"the\" and \"The\"\n",
    "macbeth = macbeth.lower()"
   ]
  },
  {
   "cell_type": "code",
   "execution_count": 68,
   "metadata": {},
   "outputs": [],
   "source": [
    "# Investigating instances of \"Macb\" in my graph\n",
    "# Using the string.find(value, start, end) method\n",
    "# macb = []\n",
    "# pos = macbeth.find('macb', 0)\n",
    "# macb.append(macbeth[pos-20:pos+20])\n",
    "# while pos < len(macbeth)-30:\n",
    "#     pos = macbeth.find('macb', pos+1)\n",
    "#     macb.append(macbeth[pos-20:pos+20])\n",
    "# print(macb)"
   ]
  },
  {
   "cell_type": "code",
   "execution_count": 69,
   "metadata": {},
   "outputs": [
    {
     "data": {
      "text/plain": [
       "<function matplotlib.pyplot.show(*args, **kw)>"
      ]
     },
     "execution_count": 69,
     "metadata": {},
     "output_type": "execute_result"
    },
    {
     "data": {
      "image/png": "[encoded data removed]",
      "text/plain": [
       "<Figure size 720x432 with 1 Axes>"
      ]
     },
     "metadata": {
      "needs_background": "light"
     },
     "output_type": "display_data"
    }
   ],
   "source": [
    "# Pseudo-code Outline\n",
    "# Split the transcript into words\n",
    "# Create a dictionary\n",
    "# Iterate through the text of Macbeth\n",
    "# Update word counts\n",
    "# Create Bar Graph\n",
    "# Include descriptive titles and labels\n",
    "\n",
    "# Questions\n",
    "# How to find docstrings on a dictionary method (as opposed to a function)\n",
    "# To get docstrings, need to put the dictionary name and then the method\n",
    "# e.g. macbeth_word_count.get() <-- Shift+Tab inside there\n",
    "\n",
    "\n",
    "macbeth_word_count = {}\n",
    "# Question - How do you replace more than one or group of characters?\n",
    "# macbeth_fixed = macbeth.replace()\n",
    "# macbeth_fixed  = macbeth.replace(str_split('\\\\/:*?\"<>|,'), '')\n",
    "\n",
    "macbeth = macbeth.replace('.', '')\n",
    "macbeth = macbeth.replace(',', '')\n",
    "macbeth = macbeth.replace('\\r', ' ')\n",
    "macbeth = macbeth.replace('\\n', ' ')\n",
    "macbeth = macbeth.replace('   ', ' ')\n",
    "macbeth = macbeth.replace('  ', ' ')\n",
    "macbeth_list = macbeth.split(' ')\n",
    "for word in macbeth_list:\n",
    "    word_formatted = word.lower()\n",
    "    if macbeth_word_count.get(word_formatted) == None:\n",
    "        macbeth_word_count[word_formatted] = 1\n",
    "    macbeth_word_count[word_formatted] = macbeth_word_count.get(word_formatted) + 1\n",
    "\n",
    "# removing Macb. as this is referring to the role of Macbeth\n",
    "# and is not a word in the actual play\n",
    "del macbeth_word_count['macb']\n",
    "\n",
    "sorted_macbeth_word_count = sorted(macbeth_word_count.items(), key=lambda kv: kv[1], reverse=True)\n",
    "\n",
    "x_values = list(map(lambda k: k[0], sorted_macbeth_word_count))\n",
    "y_values = list(map(lambda k: k[1], sorted_macbeth_word_count))\n",
    "\n",
    "\n",
    "import matplotlib.pyplot as plt\n",
    "%matplotlib inline\n",
    "\n",
    "plt.figure(figsize=(10,6))\n",
    "plt.bar(x_values[:25], y_values[:25], label='Word count by number of words')\n",
    "plt.xticks(rotation=45)\n",
    "\n",
    "plt.xlabel('Words')\n",
    "plt.ylabel('Frequency')\n",
    "plt.title(\"Most Frequently Used Words in the Play Macbeth\")\n",
    "plt.legend()\n",
    "plt.show"
   ]
  },
  {
   "cell_type": "markdown",
   "metadata": {},
   "source": [
    "## Level Up (Optional)\n",
    "This project should take you about an hour and a half to complete. If you're done much more quickly than that and are not behind in the course, feel free to deepen your knowledge by completing any or all of the following tasks until you run out of time:\n",
    "* Create a list of top characters by mentions of their names \n",
    "* Split the text by which character is talking\n",
    "* Create subgraphs of the most common words by character\n",
    "* Reduce the string to the text of the play itself. (Remove any initial notes, forward, introduction, appendix, etc.)\n",
    "* Come up with some other fun analyses of the text!\n",
    "\n",
    "## Summary\n",
    "Congratulations! You've got some extra practice combining various data types into useful programming patterns and done an initial analysis of a classic text!"
   ]
  },
  {
   "cell_type": "markdown",
   "metadata": {},
   "source": [
    "## Creating a list of top characters by mentions of their names"
   ]
  },
  {
   "cell_type": "code",
   "execution_count": 1,
   "metadata": {},
   "outputs": [
    {
     "name": "stdout",
     "output_type": "stream",
     "text": [
      "103547\n"
     ]
    }
   ],
   "source": [
    "import requests\n",
    "macbeth = requests.get('http://www.gutenberg.org/cache/epub/2264/pg2264.txt').text\n",
    "macbeth = macbeth[16706:]\n",
    "print(len(macbeth))"
   ]
  },
  {
   "cell_type": "code",
   "execution_count": 2,
   "metadata": {},
   "outputs": [],
   "source": [
    "macbeth = macbeth.replace('\\n', ' ')\n",
    "macbeth = macbeth.replace('\\r', ' ')\n",
    "# macbeth = macbeth.lower()\n",
    "macbeth_words = macbeth.split(' ')\n",
    "macbeth_words_ending_in_period = list(filter(lambda x: x.endswith('.'), macbeth_words))\n",
    "macbeth_possible_characters = list(filter(lambda x: x.capitalize() == x, macbeth_words_ending_in_period))"
   ]
  },
  {
   "cell_type": "code",
   "execution_count": 3,
   "metadata": {},
   "outputs": [],
   "source": [
    "macbeth_words_ending_in_period[:25]\n",
    "len(macbeth_words_ending_in_period)\n",
    "macbeth_possible_characters[:25]\n",
    "len(macbeth_possible_characters)\n",
    "possibly_not_a_character = []\n",
    "for word in macbeth_words_ending_in_period:\n",
    "    if word not in macbeth_possible_characters:\n",
    "        possibly_not_a_character.append(word)\n",
    "# print(possibly_not_a_character)\n",
    "# After reviewing \"possibly_not_a_character, it looks like I missed 1.Murth, 2.Murth, and Y.Sey"
   ]
  },
  {
   "cell_type": "code",
   "execution_count": 4,
   "metadata": {},
   "outputs": [],
   "source": [
    "names = {}\n",
    "for word in macbeth_possible_characters:\n",
    "    if word in names:\n",
    "        names[word] += 1\n",
    "    else:\n",
    "        names[word] = 1\n",
    "names_sorted = sorted(names.items(), key=lambda kv: kv[1], reverse=True)\n",
    "names_sorted = list(map(lambda k: k[0], names_sorted))"
   ]
  },
  {
   "cell_type": "code",
   "execution_count": 5,
   "metadata": {},
   "outputs": [
    {
     "name": "stdout",
     "output_type": "stream",
     "text": [
      "['Macb.', 'Macd.', 'Lady.', 'Rosse.', 'Exeunt.', 'Mal.', 'Banq.', '1.', 'La.', 'Lenox.', 'Doct.', 'Wife.', 'King.', 'Malc.', '3.', 'Son.', 'All.', 'Sey.', '2.', 'Gent.', 'Mac.', 'Macbeth.', 'Knock.', 'Enter.', 'Ban.', 'Seruant.', 'Mur.', 'Thunder.', 'Banquo.', 'Macduffe.', 'Secunda.', 'Tertia.', 'Flourish.', 'Attendants.', 'Lords.', 'Lord.', 'Len.', 'Ment.', 'Witches.', 'Ang.', 'Quarta.', 'Messenger.', 'Prima.', 'Kings.', 'Appar.', 'Mes.', 'Colours.', 'Cap.', 'Angus.', 'Cawdor.', 'Quinta.', 'Sexta.', 'Knocke.', 'Porter.', 'Port.', 'Night.', 'Murtherers.', 'Murth.', 'Lad.', 'Cath.', 'Ser.', 'Alarums.', 'Mess.', 'Torches.', 'Septima.', 'Fleance.', 'Torch.', 'Bell.', 'Eyes.', 'Ghost.', 'Hell.', 'Macduff.', 'Donal.', 'Ross.', 'Day.', 'Hec.', 'Song.', '&c.', 'Descends.', 'Scotland.', 'Doctor.', 'Soldiers.', 'Feare.', 'Seyward.', 'Lightning.', 'Captaine.', 'Surgeons.', 'I.', 'Card.', 'Tempest-tost.', 'Winde.', 'Theame.', 'Face.', 'Trust.', 'Kinsman.', 'Letter.', 'Battlements.', 'Mischiefe.', 'Loue.', 'Hostesse.', 'Hoboyes.', 'Stage.', 'Males.', 'Feat.', 'Secundus.', 'Offices.', 'Snores.', \"'em.\", 'Hand.', 'Deuill.', 'Guilt.', 'Red.', 'Key.', 'Equiuocator.', 'Goose.', 'Bonfire.', 'Vrine.', 'Gorgon.', 'Donalbaine.', 'Reason.', 'Don.', 'M.', 'Foes.', 'Tertius.', 'Supper.', 'Farwell.', 'Caesar.', 'Tooth.', 'Walke.', 'Murtherer.', 'Murderer.', 'Duncan.', 'Girle.', 'Blood.', 'Feed.', 'Sisters.', 'Hecat.', 'Destinie.', 'Noone.', 'Confusion.', 'Enemie.', 'Fleans.', 'Quartus.', 'Head.', 'Enough.', 'Childe.', 'Descend.', 'Custome.', 'Eye-bals.', 'Musicke.', 'Kalender.', 'Horse.', 'Line.', 'Season.', 'Murther.', 'Owne.', 'Honor.', 'Nature.', 'Quarrell.', 'Art.', 'Euill.', 'Benediction.', 'Grace.', 'Ro.', 'Children.', 'Quintus.', 'Gentlewoman.', 'Taper.', 'Birnan.', 'Boy.', 'Seyton.', 'Seyt.', 'Marching.', 'Seyw.', 'Sold.', 'Syw.', 'Women.', 'Dunsinane.', 'Boughes.', 'Battell.', 'Death.', 'Exit.', 'Castle.', 'Scone.', 'Omnes.']\n"
     ]
    }
   ],
   "source": [
    "print(names_sorted)"
   ]
  },
  {
   "cell_type": "markdown",
   "metadata": {},
   "source": [
    "## Split the text by which character is talking"
   ]
  },
  {
   "cell_type": "code",
   "execution_count": 6,
   "metadata": {},
   "outputs": [],
   "source": [
    "# pseudo code\n",
    "# Pattern of a line is:\n",
    "# CharacterName[.][speech here][\\r or \\n or \\r\\n]\n",
    "# Create a loop to look for a CharacterName\n",
    "# Find the next instance of \\r or \\n or \\r\\n after the CharacterName\n",
    "# Take that slice and assign it as that character's line in a dictionary (or list?)\n",
    "# By character, aggregate all the words spoken by that character in a new dictionary (key=)\n"
   ]
  },
  {
   "cell_type": "code",
   "execution_count": 7,
   "metadata": {},
   "outputs": [],
   "source": [
    "import requests\n",
    "macbeth = requests.get('http://www.gutenberg.org/cache/epub/2264/pg2264.txt').text\n",
    "macbeth = macbeth[16706:]\n",
    "macbeth = macbeth.replace(';','')\n",
    "macbeth = macbeth.replace(',','')\n",
    "macbeth = macbeth.replace(':','')\n",
    "macbeth = macbeth.replace('?','')"
   ]
  },
  {
   "cell_type": "code",
   "execution_count": 8,
   "metadata": {},
   "outputs": [],
   "source": [
    "names_sorted = {'Son.': 14, 'All.': 13}\n",
    "# print(names_sorted)\n",
    "\n",
    "lines_by_name = {}\n",
    "for name in names_sorted:\n",
    "    loc = -1\n",
    "    lines=[]\n",
    "    while loc < (len(macbeth) - 5):\n",
    "        if macbeth.find(name, loc+1) == -1:\n",
    "            break\n",
    "        start_of_line = macbeth.find(name, loc+1)\n",
    "        end_of_line = macbeth.find('\\r\\n', start_of_line)\n",
    "        line = macbeth[start_of_line + len(name):end_of_line]\n",
    "        lines.append(line)\n",
    "        loc = end_of_line+1\n",
    "        lines_by_name[name] = lines\n",
    "\n",
    "\n",
    "# print(bool(lines_by_name['Death.']))\n",
    "\n",
    "# print(bool(['']))\n",
    "        \n",
    "# def remove_empty_keys(d):\n",
    "#     for k in d.keys():\n",
    "#         if not d[k]:\n",
    "#             del d[k]\n",
    "\n",
    "# remove_empty_keys(lines_by_name)\n",
    "# print(lines_by_name)"
   ]
  },
  {
   "cell_type": "code",
   "execution_count": 12,
   "metadata": {},
   "outputs": [
    {
     "name": "stdout",
     "output_type": "stream",
     "text": [
      "{'Son.': [('do', 4), ('Mother', 4), ('I', 3), ('and', 3), ('for', 3), ('a', 3), ('so', 2), ('they', 2), ('you', 2), ('Then', 2), ('Traitor', 2), ('And', 2), ('be', 2), ('all', 2), ('that', 2), ('must', 2), ('As', 1), ('Birds', 1), ('With', 1), ('what', 1), ('get', 1), ('meane', 1), ('Why', 1), ('should', 1), ('Nay', 1), ('how', 1), ('will', 1), ('Husband', 1), (\"you'l\", 1), ('by', 1), (\"'em\", 1), ('to', 1), ('sell', 1), ('againe', 1), ('Was', 1), ('my', 1), ('Father', 1), ('What', 1), ('is', 1), ('Traitors', 1), (\"hang'd\", 1), ('swear', 1), ('lye', 1), ('Who', 1), ('hang', 1), ('them', 1), ('the', 1), ('Liars', 1), ('Swearers', 1), ('are', 1), ('Fools', 1), ('there', 1), ('If', 1), ('he', 1), ('were', 1), ('dead', 1), (\"youl'd\", 1), ('weepe', 1), ('him', 1), ('if', 1), ('Thou', 1), (\"ly'st\", 1), ('thou', 1), (\"shagge-ear'd\", 1), ('Villaine', 1), ('He', 1), (\"ha's\", 1), (\"kill'd\", 1), ('me', 1)], 'All.': [('and', 5), ('Double', 3), ('double', 3), ('trouble', 3), ('faire', 2), ('is', 2), ('foule', 2), ('hand', 2), ('toyle', 2), ('his', 2), ('Padock', 1), ('calls', 1), ('anon', 1), ('The', 1), ('weyward', 1), ('Sisters', 1), ('in', 1), ('So', 1), ('all', 1), ('Well', 1), ('contented.', 1), ('toile', 1), ('A', 1), ('deed', 1), ('without', 1), ('a', 1), ('name', 1), ('Come', 1), ('high', 1), ('or', 1), ('low', 1), ('Listen', 1), ('but', 1), ('speake', 1), ('not', 1), (\"too't\", 1), ('Seeke', 1), ('to', 1), ('know', 1), ('no', 1), ('more', 1), ('Shew', 1), ('Eyes', 1), ('greeue', 1), ('Hart', 1), ('Haile', 1), ('King', 1), ('of', 1), ('Scotland.', 1)]}\n"
     ]
    }
   ],
   "source": [
    "# print(bool(''))\n",
    "\n",
    "words_by_name = {}\n",
    "for name in lines_by_name.keys():\n",
    "    words = []\n",
    "    for line in lines_by_name[name]:\n",
    "        words += line.split(' ')\n",
    "    words_filtered = list(filter(lambda x: bool(x) == True, words))\n",
    "    word_count = {}\n",
    "#     print(words_filtered)\n",
    "    for word in words_filtered:\n",
    "        if word in word_count:\n",
    "            word_count[word] += 1\n",
    "        else:\n",
    "            word_count[word] = 1\n",
    "#     print(word_count)\n",
    "#     print(word_count.items())\n",
    "    word_count_sorted = sorted(word_count.items(), key=lambda kv: kv[1], reverse = True)\n",
    "#     print(word_count_sorted)\n",
    "    words_by_name[name] = word_count_sorted\n",
    "\n",
    "print(words_by_name)"
   ]
  },
  {
   "cell_type": "code",
   "execution_count": null,
   "metadata": {},
   "outputs": [],
   "source": [
    "for character in words_by_name.keys()\n",
    "plt.figure(figsize=(5,5))\n",
    "x_values = list(map(lambda k: k[0], words_by_name['Son.']))\n",
    "y_values = list(map(lambda k: k[1], words_by_name['Son.']))\n",
    "# print(x_values)\n",
    "# print(y_values) \n",
    "plt.bar(x_values[:5], y_values[:5], label=\"Most Uttered Words by Son.\")\n",
    "plt.legend()\n",
    "plt.xlabel(\"Words\")\n",
    "plt.ylabel(\"Count\")\n",
    "plt.xticks(rotation=45)\n",
    "plt.show()"
   ]
  },
  {
   "cell_type": "code",
   "execution_count": 10,
   "metadata": {},
   "outputs": [
    {
     "data": {
      "image/png": "[encoded data removed]",
      "text/plain": [
       "<Figure size 360x360 with 1 Axes>"
      ]
     },
     "metadata": {
      "needs_background": "light"
     },
     "output_type": "display_data"
    }
   ],
   "source": [
    "import matplotlib.pyplot as plt\n",
    "%matplotlib inline\n",
    "plt.figure(figsize=(5,5))\n",
    "x_values = list(map(lambda k: k[0], words_by_name['Son.']))\n",
    "y_values = list(map(lambda k: k[1], words_by_name['Son.']))\n",
    "# print(x_values)\n",
    "# print(y_values) \n",
    "plt.bar(x_values[:5], y_values[:5], label=\"Most Uttered Words by Son.\")\n",
    "plt.legend()\n",
    "plt.xlabel(\"Words\")\n",
    "plt.ylabel(\"Count\")\n",
    "plt.xticks(rotation=45)\n",
    "plt.show()"
   ]
  },
  {
   "cell_type": "code",
   "execution_count": 11,
   "metadata": {},
   "outputs": [
    {
     "ename": "NameError",
     "evalue": "name 'plot_list1' is not defined",
     "output_type": "error",
     "traceback": [
      "\u001b[0;31m\u001b[0m",
      "\u001b[0;31mNameError\u001b[0mTraceback (most recent call last)",
      "\u001b[0;32m<ipython-input-11-57eb8ab75773>\u001b[0m in \u001b[0;36m<module>\u001b[0;34m()\u001b[0m\n\u001b[1;32m      3\u001b[0m \u001b[0;34m\u001b[0m\u001b[0m\n\u001b[1;32m      4\u001b[0m \u001b[0mplt\u001b[0m\u001b[0;34m.\u001b[0m\u001b[0mfigure\u001b[0m\u001b[0;34m(\u001b[0m\u001b[0;34m)\u001b[0m\u001b[0;34m\u001b[0m\u001b[0m\n\u001b[0;32m----> 5\u001b[0;31m \u001b[0;32mfor\u001b[0m \u001b[0mi\u001b[0m \u001b[0;32min\u001b[0m \u001b[0mplot_list1\u001b[0m\u001b[0;34m:\u001b[0m\u001b[0;34m\u001b[0m\u001b[0m\n\u001b[0m\u001b[1;32m      6\u001b[0m   \u001b[0mplt\u001b[0m\u001b[0;34m.\u001b[0m\u001b[0mplot\u001b[0m\u001b[0;34m(\u001b[0m\u001b[0mi\u001b[0m\u001b[0;34m)\u001b[0m\u001b[0;34m\u001b[0m\u001b[0m\n\u001b[1;32m      7\u001b[0m \u001b[0;34m\u001b[0m\u001b[0m\n",
      "\u001b[0;31mNameError\u001b[0m: name 'plot_list1' is not defined"
     ]
    },
    {
     "data": {
      "text/plain": [
       "<Figure size 432x288 with 0 Axes>"
      ]
     },
     "metadata": {},
     "output_type": "display_data"
    }
   ],
   "source": [
    "import matplotlib.pyplot as plt\n",
    "%matplotlib inline\n",
    "\n",
    "plt.figure()\n",
    "for i in plot_list1:\n",
    "  plt.plot(i)\n",
    " \n",
    "plt.figure()\n",
    "for j in plot_list2:\n",
    "  plt.plot()\n",
    " \n",
    "plt.show"
   ]
  },
  {
   "cell_type": "code",
   "execution_count": null,
   "metadata": {},
   "outputs": [],
   "source": []
  },
  {
   "cell_type": "code",
   "execution_count": null,
   "metadata": {},
   "outputs": [],
   "source": []
  },
  {
   "cell_type": "code",
   "execution_count": null,
   "metadata": {},
   "outputs": [],
   "source": []
  }
 ],
 "metadata": {
  "kernelspec": {
   "display_name": "Python 3",
   "language": "python",
   "name": "python3"
  },
  "language_info": {
   "codemirror_mode": {
    "name": "ipython",
    "version": 3
   },
   "file_extension": ".py",
   "mimetype": "text/x-python",
   "name": "python",
   "nbconvert_exporter": "python",
   "pygments_lexer": "ipython3",
   "version": "3.6.6"
  }
 },
 "nbformat": 4,
 "nbformat_minor": 2
}
